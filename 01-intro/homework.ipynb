{
 "cells": [
  {
   "cell_type": "code",
   "execution_count": 1,
   "id": "48e5ede1-0e5f-42bd-b5b4-28711c33d657",
   "metadata": {},
   "outputs": [],
   "source": [
    "from openai import OpenAI\n",
    "import os"
   ]
  },
  {
   "cell_type": "code",
   "execution_count": 2,
   "id": "d4bfd985-9fbb-405f-b28e-86d52c03b5bb",
   "metadata": {},
   "outputs": [],
   "source": [
    "client = OpenAI(api_key='sk-llm-zoomcamp-g1qn5cqLe1Gp0s0wLdZ9T3BlbkFJvHgr66ALUPaOsuWGi8ef')"
   ]
  },
  {
   "cell_type": "code",
   "execution_count": null,
   "id": "030eaf33-8e26-4fd5-974e-cc97e38a024b",
   "metadata": {},
   "outputs": [],
   "source": [
    "client.chat.completions.create("
   ]
  },
  {
   "cell_type": "code",
   "execution_count": null,
   "id": "7a75baa2-f26b-47cb-98ba-570f693e932c",
   "metadata": {},
   "outputs": [],
   "source": []
  }
 ],
 "metadata": {
  "kernelspec": {
   "display_name": "Python 3 (ipykernel)",
   "language": "python",
   "name": "python3"
  },
  "language_info": {
   "codemirror_mode": {
    "name": "ipython",
    "version": 3
   },
   "file_extension": ".py",
   "mimetype": "text/x-python",
   "name": "python",
   "nbconvert_exporter": "python",
   "pygments_lexer": "ipython3",
   "version": "3.10.13"
  }
 },
 "nbformat": 4,
 "nbformat_minor": 5
}
